import os
import csv
import logging

from words import WORDS


# Configure logging
logging.basicConfig(filename='mapping.log', level=logging.INFO)


# Directories
_AUDIO_DIR = 'audio/'
_TRANSCRIPT_DIR = 'transcript/'
_OUTPUT_FILE = _TRANSCRIPT_DIR + 'train.csv'


[word for word in WORDS.values() if word.encode('utf-8') in 'audio_182_고양이'.split('_')]


cat = 'cat'


cat in 'audio_182_cat'.split('_')


mapping = []

for audio_file in os.listdir(_AUDIO_DIR):
    if not audio_file.endswith('.wav'):
        continue
    file_name = os.path.splitext(audio_file)[0]
    transcription = [word for word in WORDS.values() if word in file_name]
    audio_path = os.path.join(dir, audio_file)
    transcript_path = os.path.join(transcript_dir, transcript_file)

    if os.path.exists(transcript_path):
        with open(transcript_path, 'r', encoding='utf-8') as f:
            transcription = f.read().strip().lower()
            # Optionally normalize transcription here
        mapping.append({'filename': audio_path, 'transcription': transcription})
    else:
        logging.warning(f'No transcription found for {audio_file}')

# Write to CSV
with open(output_manifest, 'w', newline='', encoding='utf-8') as csvfile:
    fieldnames = ['filename', 'transcription']
    writer = csv.DictWriter(csvfile, fieldnames=fieldnames)
    writer.writeheader()
    for item in mapping:
        writer.writerow(item)




