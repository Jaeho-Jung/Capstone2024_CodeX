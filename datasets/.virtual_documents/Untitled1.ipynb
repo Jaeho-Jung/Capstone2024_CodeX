


import os
import csv
import logging

from words import WORDS


# Configure logging
logging.basicConfig(filename='mapping.log', level=logging.INFO)


# Directories
_AUDIO_DIR = 'audio/'
_TRANSCRIPT_DIR = 'transcript/'
_OUTPUT_FILE = _TRANSCRIPT_DIR + 'train.csv'


list(WORDS.values())


[word for word in WORDS.values() if word in 'audio_182_고양이'.split('_') ]


mapping = []

for audio_file in os.listdir(_AUDIO_DIR):
    if not audio_file.endswith('.wav'):
        continue
    file_name = os.path.splitext(audio_file)[0]
    file_name_list = file_name.split('_')
    
    # words = WORDS.values()
    # transcription = [word for word in words if word in file_name_list]
    transcription = file_name_list[2]    
    
    mapping.append({'file': audio_file, 'text': transcription})

# Write to CSV
with open(_OUTPUT_FILE, 'w', newline='', encoding='utf-8') as csvfile:
    fieldnames = ['file', 'text']
    writer = csv.DictWriter(csvfile, fieldnames=fieldnames)
    writer.writeheader()
    for item in mapping:
        writer.writerow(item)




